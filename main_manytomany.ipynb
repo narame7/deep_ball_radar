{
 "cells": [
  {
   "cell_type": "code",
   "execution_count": 7,
   "metadata": {},
   "outputs": [
    {
     "name": "stderr",
     "output_type": "stream",
     "text": [
      "/tmp/ipykernel_34671/1679044566.py:9: DeprecationWarning: Please use `gaussian_filter` from the `scipy.ndimage` namespace, the `scipy.ndimage.filters` namespace is deprecated.\n",
      "  from scipy.ndimage.filters import gaussian_filter\n"
     ]
    }
   ],
   "source": [
    "import os\n",
    "import torch\n",
    "import torch.nn as nn\n",
    "from torch.utils.data import DataLoader\n",
    "\n",
    "import numpy as np\n",
    "import pandas as pd\n",
    "from tqdm import tqdm\n",
    "from scipy.ndimage.filters import gaussian_filter\n",
    "import matplotlib.pyplot as plt\n",
    "from glob import glob"
   ]
  },
  {
   "cell_type": "code",
   "execution_count": 8,
   "metadata": {},
   "outputs": [],
   "source": [
    "# %load_ext autoreload\n",
    "# %autoreload 2\n",
    "\n",
    "from dataset import SoccerDataset\n",
    "from trace_regressor import *\n",
    "from trace_discriminator import TraceDiscriminator\n",
    "from poss_classifier import PossClassifier, PossTransformerClassifier\n",
    "from utils import train"
   ]
  },
  {
   "cell_type": "code",
   "execution_count": 9,
   "metadata": {},
   "outputs": [],
   "source": [
    "os.environ['CUDA_DEVICE_ORDER'] = 'PCI_BUS_ID'\n",
    "os.environ['CUDA_VISIBLE_DEVICES'] = '0'\n",
    "device = \"cuda\" if torch.cuda.is_available() else \"cpu\""
   ]
  },
  {
   "cell_type": "code",
   "execution_count": 10,
   "metadata": {},
   "outputs": [
    {
     "data": {
      "text/plain": [
       "(['data/final_traces/final_traces/12864_12868.csv',\n",
       "  'data/final_traces/final_traces/12887_12911.csv',\n",
       "  'data/final_traces/final_traces/13044_13055.csv',\n",
       "  'data/final_traces/final_traces/13213_13216.csv',\n",
       "  'data/final_traces/final_traces/13224_13278.csv',\n",
       "  'data/final_traces/final_traces/13471_13479.csv',\n",
       "  'data/final_traces/final_traces/14082_14088.csv',\n",
       "  'data/final_traces/final_traces/14212_14256.csv',\n",
       "  'data/final_traces/final_traces/14247_14274.csv',\n",
       "  'data/final_traces/final_traces/14249_14258.csv',\n",
       "  'data/final_traces/final_traces/14524_14534.csv',\n",
       "  'data/final_traces/final_traces/14572_14643.csv',\n",
       "  'data/final_traces/final_traces/14890_14929.csv',\n",
       "  'data/final_traces/final_traces/15215_15218.csv',\n",
       "  'data/final_traces/final_traces/15216_15217.csv',\n",
       "  'data/final_traces/final_traces/15569_15580.csv',\n",
       "  'data/final_traces/final_traces/15571_15581.csv',\n",
       "  'data/final_traces/final_traces/15849_15855.csv',\n",
       "  'data/final_traces/final_traces/15860_15884.csv',\n",
       "  'data/final_traces/final_traces/16150_16174.csv',\n",
       "  'data/final_traces/final_traces/16166_16171.csv',\n",
       "  'data/final_traces/final_traces/16474_16477.csv',\n",
       "  'data/final_traces/final_traces/16520_16563.csv',\n",
       "  'data/final_traces/final_traces/16861_16934.csv',\n",
       "  'data/final_traces/final_traces/16870_16890.csv',\n",
       "  'data/final_traces/final_traces/17257_17329.csv',\n",
       "  'data/final_traces/final_traces/17361_17375.csv',\n",
       "  'data/final_traces/final_traces/17386_17393.csv',\n",
       "  'data/final_traces/final_traces/18045_18145.csv',\n",
       "  'data/final_traces/final_traces/18414_18434.csv',\n",
       "  'data/final_traces/final_traces/18499_18508.csv',\n",
       "  'data/final_traces/final_traces/18542_18605.csv',\n",
       "  'data/final_traces/final_traces/18849_18850.csv',\n",
       "  'data/final_traces/final_traces/18896_18909.csv',\n",
       "  'data/final_traces/final_traces/19222_19350.csv',\n",
       "  'data/final_traces/final_traces/19359_19361.csv',\n",
       "  'data/final_traces/final_traces/19544_19548.csv',\n",
       "  'data/final_traces/final_traces/19895_19901.csv',\n",
       "  'data/final_traces/final_traces/20420_20425.csv',\n",
       "  'data/final_traces/final_traces/20424_20529.csv',\n",
       "  'data/final_traces/final_traces/20862_20875.csv',\n",
       "  'data/final_traces/final_traces/21689_21704.csv',\n",
       "  'data/final_traces/final_traces/22213_22216.csv',\n",
       "  'data/metrica_traces/game_1.csv',\n",
       "  'data/metrica_traces/game_2.csv',\n",
       "  'data/metrica_traces/game_3.csv'],\n",
       " ['data/metrica_traces/real_test.csv'])"
      ]
     },
     "execution_count": 10,
     "metadata": {},
     "output_type": "execute_result"
    }
   ],
   "source": [
    "files = glob('data/metrica_traces/*.csv') + glob('data/final_traces/final_traces/*.csv')\n",
    "files.sort()\n",
    "train_files = files[:-1]\n",
    "val_files = files[-1:]\n",
    "train_files, val_files"
   ]
  },
  {
   "cell_type": "markdown",
   "metadata": {
    "tags": []
   },
   "source": [
    "### Training a Ball Regressor"
   ]
  },
  {
   "cell_type": "code",
   "execution_count": 11,
   "metadata": {},
   "outputs": [],
   "source": [
    "train_dataset = SoccerDataset(train_files, mode='true_gk', poss_encode=True)\n",
    "val_dataset = SoccerDataset(val_files, mode='true_gk', poss_encode=True)"
   ]
  },
  {
   "cell_type": "code",
   "execution_count": 7,
   "metadata": {},
   "outputs": [],
   "source": [
    "batch_size = 32\n",
    "train_loader = DataLoader(train_dataset, batch_size=batch_size, shuffle=True, num_workers=8)\n",
    "val_loader = DataLoader(val_dataset, batch_size=batch_size, shuffle=False, num_workers=8)"
   ]
  },
  {
   "cell_type": "code",
   "execution_count": 15,
   "metadata": {},
   "outputs": [],
   "source": [
    "target_type = 'gk'\n",
    "model_type = 'settransformer'\n",
    "loss_type = 'mse'\n",
    "\n",
    "if model_type == 'setlstm':\n",
    "    trace_regressor = TraceSetLSTM(target_type=target_type).to(device)\n",
    "elif model_type == 'seq2seq':\n",
    "    trace_regressor = TraceSeq2Seq(target_type=target_type).to(device)\n",
    "elif model_type == 'settransformer':\n",
    "    trace_regressor = TraceSetTransformer(target_type=target_type).to(device)\n",
    "\n",
    "#model_path = f'saved_models/{target_type}_{model_type}_{loss_type}.pt'\n",
    "#print(trace_regressor.load_state_dict(torch.load(model_path)))\n",
    "#trace_regressor.train()"
   ]
  },
  {
   "cell_type": "code",
   "execution_count": 21,
   "metadata": {
    "tags": []
   },
   "outputs": [],
   "source": [
    "# train(trace_regressor, train_loader, val_loader, phys_loss=False, device=device)"
   ]
  },
  {
   "cell_type": "markdown",
   "metadata": {
    "tags": []
   },
   "source": [
    "### Training a Team Possession Classifier"
   ]
  },
  {
   "cell_type": "code",
   "execution_count": 7,
   "metadata": {},
   "outputs": [],
   "source": [
    "#train_dataset = SoccerDataset(train_files, mode='true_gk', poss_encode=True)\n",
    "#val_dataset = SoccerDataset(val_files, mode='true_gk', poss_encode=True)\n",
    "\n",
    "batch_size = 32\n",
    "train_loader = DataLoader(train_dataset, batch_size=batch_size, shuffle=True, num_workers=8)\n",
    "val_loader = DataLoader(val_dataset, batch_size=batch_size, shuffle=False, num_workers=8)"
   ]
  },
  {
   "cell_type": "code",
   "execution_count": 8,
   "metadata": {},
   "outputs": [],
   "source": [
    "poss_classifier = PossTransformerClassifier(ball_trace_given=False, mode='team', hidden_dim=128).to(device)"
   ]
  },
  {
   "cell_type": "code",
   "execution_count": 24,
   "metadata": {},
   "outputs": [],
   "source": [
    "#model_path = f'saved_models/team_poss_classifier.pt'\n",
    "#poss_classifier.load_state_dict(torch.load(model_path))"
   ]
  },
  {
   "cell_type": "code",
   "execution_count": 9,
   "metadata": {},
   "outputs": [
    {
     "data": {
      "application/vnd.jupyter.widget-view+json": {
       "model_id": "8a440a5f01e74225b5b3a5c14383ca08",
       "version_major": 2,
       "version_minor": 0
      },
      "text/plain": [
       "  0%|          | 0/36867 [00:00<?, ?it/s]"
      ]
     },
     "metadata": {},
     "output_type": "display_data"
    },
    {
     "name": "stderr",
     "output_type": "stream",
     "text": [
      "/home/toc/anaconda3/envs/balltrack/lib/python3.8/site-packages/torchcrf/__init__.py:249: UserWarning: where received a uint8 condition tensor. This behavior is deprecated and will be removed in a future version of PyTorch. Use a boolean condition instead. (Triggered internally at  /opt/conda/conda-bld/pytorch_1646755853042/work/aten/src/ATen/native/TensorCompare.cpp:333.)\n",
      "  score = torch.where(mask[i].unsqueeze(1), next_score, score)\n"
     ]
    },
    {
     "name": "stdout",
     "output_type": "stream",
     "text": [
      "cos_num device : cuda:0\n",
      "cos_denom device : cuda:0\n",
      "eps_device :  cpu\n"
     ]
    },
    {
     "ename": "NameError",
     "evalue": "name 'asd' is not defined",
     "output_type": "error",
     "traceback": [
      "\u001b[0;31m---------------------------------------------------------------------------\u001b[0m",
      "\u001b[0;31mNameError\u001b[0m                                 Traceback (most recent call last)",
      "\u001b[1;32m/home/toc/Choi/ohcoach_ball-radar_batch/main_manytomany.ipynb 셀 14\u001b[0m in \u001b[0;36m<cell line: 1>\u001b[0;34m()\u001b[0m\n\u001b[0;32m----> <a href='vscode-notebook-cell://ssh-remote%2B7b22686f73744e616d65223a223231302e3131352e34362e3631222c2275736572223a22746f63222c22706f7274223a333330307d/home/toc/Choi/ohcoach_ball-radar_batch/main_manytomany.ipynb#ch0000013vscode-remote?line=0'>1</a>\u001b[0m train(poss_classifier, train_loader, val_loader, phys_loss\u001b[39m=\u001b[39;49m\u001b[39mFalse\u001b[39;49;00m, device\u001b[39m=\u001b[39;49mdevice)\n",
      "File \u001b[0;32m~/Choi/ohcoach_ball-radar_batch/utils.py:156\u001b[0m, in \u001b[0;36mtrain\u001b[0;34m(model, train_loader, val_loader, critic, gan_loss, phys_loss, phys_coeff, dist_coeff, device, option_type)\u001b[0m\n\u001b[1;32m    153\u001b[0m train_dist \u001b[39m+\u001b[39m\u001b[39m=\u001b[39m trace_dist_fn(pred_traces, target_traces)\u001b[39m.\u001b[39mitem()\n\u001b[1;32m    155\u001b[0m train_distloss \u001b[39m+\u001b[39m\u001b[39m=\u001b[39m dist_coeff \u001b[39m*\u001b[39m (covered_dist_fn(pred_traces, target_traces))\u001b[39m.\u001b[39mitem()\n\u001b[0;32m--> 156\u001b[0m train_physloss \u001b[39m+\u001b[39m\u001b[39m=\u001b[39m phys_coeff \u001b[39m*\u001b[39m (phys_loss_fn(pred_traces, input_traces))\u001b[39m.\u001b[39mitem()\n\u001b[1;32m    159\u001b[0m \u001b[39m#loss = nn.CrossEntropyLoss()(pred_team_poss, target_team_poss) + nn.MSELoss()(pred_traces, target_traces)\u001b[39;00m\n\u001b[1;32m    160\u001b[0m loss \u001b[39m=\u001b[39m \u001b[39m-\u001b[39m\u001b[39m1\u001b[39m \u001b[39m*\u001b[39m log_likelihood \u001b[39m+\u001b[39m nn\u001b[39m.\u001b[39mMSELoss()(first_traces, target_traces) \u001b[39m+\u001b[39m nn\u001b[39m.\u001b[39mMSELoss()(pred_traces, target_traces) \n",
      "File \u001b[0;32m~/Choi/ohcoach_ball-radar_batch/utils.py:472\u001b[0m, in \u001b[0;36mphys_loss_fn\u001b[0;34m(pred_trace, player_trace, eps)\u001b[0m\n\u001b[1;32m    470\u001b[0m \u001b[39mprint\u001b[39m(\u001b[39m\"\u001b[39m\u001b[39mcos_denom device :\u001b[39m\u001b[39m\"\u001b[39m, cos_denom\u001b[39m.\u001b[39mdevice)\n\u001b[1;32m    471\u001b[0m \u001b[39mprint\u001b[39m(\u001b[39m\"\u001b[39m\u001b[39meps_device : \u001b[39m\u001b[39m\"\u001b[39m, eps\u001b[39m.\u001b[39mdevice)\n\u001b[0;32m--> 472\u001b[0m asd\n\u001b[1;32m    473\u001b[0m \u001b[39m### debug ###\u001b[39;00m\n\u001b[1;32m    476\u001b[0m angles \u001b[39m=\u001b[39m torch\u001b[39m.\u001b[39macos(cosines)\n",
      "\u001b[0;31mNameError\u001b[0m: name 'asd' is not defined"
     ]
    }
   ],
   "source": [
    "train(poss_classifier, train_loader, val_loader, phys_loss=False, device=device)"
   ]
  },
  {
   "cell_type": "code",
   "execution_count": 13,
   "metadata": {},
   "outputs": [
    {
     "data": {
      "text/plain": [
       "array([1, 1, 1, 1, 1, 1, 1, 1, 1, 1, 1, 1, 1, 1, 1, 1, 1, 1, 1, 1, 1, 1,\n",
       "       1, 1, 1, 1, 1, 1, 1, 1, 1, 1, 1, 1, 1, 1, 1, 1, 1, 1, 1, 1, 1, 1,\n",
       "       1, 1, 1, 1, 1, 1])"
      ]
     },
     "execution_count": 13,
     "metadata": {},
     "output_type": "execute_result"
    }
   ],
   "source": [
    "val_dataset[6000][-1]"
   ]
  },
  {
   "cell_type": "code",
   "execution_count": null,
   "metadata": {},
   "outputs": [],
   "source": [
    "train_dataset[420][0].shape"
   ]
  },
  {
   "cell_type": "code",
   "execution_count": 23,
   "metadata": {},
   "outputs": [
    {
     "ename": "FileNotFoundError",
     "evalue": "[Errno 2] No such file or directory: 'saved_models/team_poss_classifier_128.pt'",
     "output_type": "error",
     "traceback": [
      "\u001b[0;31m---------------------------------------------------------------------------\u001b[0m",
      "\u001b[0;31mFileNotFoundError\u001b[0m                         Traceback (most recent call last)",
      "\u001b[1;32m/home/toc/Choi/ohcoach_ball-radar_batch/main_manytomany.ipynb 셀 18\u001b[0m in \u001b[0;36m<cell line: 1>\u001b[0;34m()\u001b[0m\n\u001b[0;32m----> <a href='vscode-notebook-cell://ssh-remote%2B7b22686f73744e616d65223a223231302e3131352e34362e3631222c2275736572223a22746f63222c22706f7274223a333330307d/home/toc/Choi/ohcoach_ball-radar_batch/main_manytomany.ipynb#ch0000017vscode-remote?line=0'>1</a>\u001b[0m torch\u001b[39m.\u001b[39;49msave(poss_classifier\u001b[39m.\u001b[39;49mstate_dict(), \u001b[39m'\u001b[39;49m\u001b[39msaved_models/team_poss_classifier_128.pt\u001b[39;49m\u001b[39m'\u001b[39;49m)\n",
      "File \u001b[0;32m~/anaconda3/envs/balltrack/lib/python3.8/site-packages/torch/serialization.py:377\u001b[0m, in \u001b[0;36msave\u001b[0;34m(obj, f, pickle_module, pickle_protocol, _use_new_zipfile_serialization)\u001b[0m\n\u001b[1;32m    341\u001b[0m \u001b[39m\"\"\"save(obj, f, pickle_module=pickle, pickle_protocol=DEFAULT_PROTOCOL, _use_new_zipfile_serialization=True)\u001b[39;00m\n\u001b[1;32m    342\u001b[0m \n\u001b[1;32m    343\u001b[0m \u001b[39mSaves an object to a disk file.\u001b[39;00m\n\u001b[0;32m   (...)\u001b[0m\n\u001b[1;32m    373\u001b[0m \u001b[39m    >>> torch.save(x, buffer)\u001b[39;00m\n\u001b[1;32m    374\u001b[0m \u001b[39m\"\"\"\u001b[39;00m\n\u001b[1;32m    375\u001b[0m _check_dill_version(pickle_module)\n\u001b[0;32m--> 377\u001b[0m \u001b[39mwith\u001b[39;00m _open_file_like(f, \u001b[39m'\u001b[39;49m\u001b[39mwb\u001b[39;49m\u001b[39m'\u001b[39;49m) \u001b[39mas\u001b[39;00m opened_file:\n\u001b[1;32m    378\u001b[0m     \u001b[39mif\u001b[39;00m _use_new_zipfile_serialization:\n\u001b[1;32m    379\u001b[0m         \u001b[39mwith\u001b[39;00m _open_zipfile_writer(opened_file) \u001b[39mas\u001b[39;00m opened_zipfile:\n",
      "File \u001b[0;32m~/anaconda3/envs/balltrack/lib/python3.8/site-packages/torch/serialization.py:231\u001b[0m, in \u001b[0;36m_open_file_like\u001b[0;34m(name_or_buffer, mode)\u001b[0m\n\u001b[1;32m    229\u001b[0m \u001b[39mdef\u001b[39;00m \u001b[39m_open_file_like\u001b[39m(name_or_buffer, mode):\n\u001b[1;32m    230\u001b[0m     \u001b[39mif\u001b[39;00m _is_path(name_or_buffer):\n\u001b[0;32m--> 231\u001b[0m         \u001b[39mreturn\u001b[39;00m _open_file(name_or_buffer, mode)\n\u001b[1;32m    232\u001b[0m     \u001b[39melse\u001b[39;00m:\n\u001b[1;32m    233\u001b[0m         \u001b[39mif\u001b[39;00m \u001b[39m'\u001b[39m\u001b[39mw\u001b[39m\u001b[39m'\u001b[39m \u001b[39min\u001b[39;00m mode:\n",
      "File \u001b[0;32m~/anaconda3/envs/balltrack/lib/python3.8/site-packages/torch/serialization.py:212\u001b[0m, in \u001b[0;36m_open_file.__init__\u001b[0;34m(self, name, mode)\u001b[0m\n\u001b[1;32m    211\u001b[0m \u001b[39mdef\u001b[39;00m \u001b[39m__init__\u001b[39m(\u001b[39mself\u001b[39m, name, mode):\n\u001b[0;32m--> 212\u001b[0m     \u001b[39msuper\u001b[39m(_open_file, \u001b[39mself\u001b[39m)\u001b[39m.\u001b[39m\u001b[39m__init__\u001b[39m(\u001b[39mopen\u001b[39;49m(name, mode))\n",
      "\u001b[0;31mFileNotFoundError\u001b[0m: [Errno 2] No such file or directory: 'saved_models/team_poss_classifier_128.pt'"
     ]
    }
   ],
   "source": [
    "torch.save(poss_classifier.state_dict(), 'saved_models/team_poss_classifier_128.pt')"
   ]
  }
 ],
 "metadata": {
  "kernelspec": {
   "display_name": "Python 3.8.13 ('balltrack')",
   "language": "python",
   "name": "python3"
  },
  "language_info": {
   "codemirror_mode": {
    "name": "ipython",
    "version": 3
   },
   "file_extension": ".py",
   "mimetype": "text/x-python",
   "name": "python",
   "nbconvert_exporter": "python",
   "pygments_lexer": "ipython3",
   "version": "3.8.13"
  },
  "vscode": {
   "interpreter": {
    "hash": "c44ecce01b6920a996c2e45a7791c773f725b79a727cce05b077a0ad48ece758"
   }
  }
 },
 "nbformat": 4,
 "nbformat_minor": 4
}
